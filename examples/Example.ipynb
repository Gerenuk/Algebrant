{
 "cells": [
  {
   "cell_type": "code",
   "execution_count": 1,
   "id": "77be5976-88c0-4681-af8f-3b56abc3d405",
   "metadata": {},
   "outputs": [],
   "source": [
    "from algebrant import *  # most functionality provided from this"
   ]
  },
  {
   "cell_type": "markdown",
   "id": "0c2a3705-ee85-4aa7-bc99-7725a761f6d3",
   "metadata": {},
   "source": [
    "# Symbol algebra"
   ]
  },
  {
   "cell_type": "code",
   "execution_count": 2,
   "id": "64035076-5da3-4fc3-af7d-73fab36e2207",
   "metadata": {},
   "outputs": [
    {
     "data": {
      "text/plain": [
       "  \u001b[38;2;50;205;50ma\u001b[39m^3\n",
       "+ 3 \u001b[38;2;50;205;50ma\u001b[39m² \u001b[38;2;50;205;50mb\u001b[39m⁻¹\n",
       "+ 3 \u001b[38;2;50;205;50ma\u001b[39m \u001b[38;2;50;205;50mb\u001b[39m⁻²\n",
       "+ \u001b[38;2;50;205;50mb\u001b[39m^-3"
      ]
     },
     "execution_count": 2,
     "metadata": {},
     "output_type": "execute_result"
    }
   ],
   "source": [
    "# Symbols are created with `S(name)`\n",
    "# you can also specify a power with `S(name, power=-1)`\n",
    "a = S(\"a\")\n",
    "b = S(\"b\", power=-1)\n",
    "\n",
    "# Binomial\n",
    "(a + b) ** 3"
   ]
  },
  {
   "cell_type": "code",
   "execution_count": 3,
   "id": "1a45528c-b8ef-4ef2-bb10-12276126d208",
   "metadata": {},
   "outputs": [
    {
     "data": {
      "text/plain": [
       "\u001b[37m(2, 2) object 32bytes\u001b[0m\n",
       "array([[{ a² + b c }, { a b + b² }],\n",
       "       [{ a c + b c }, { b² + b c }]], dtype=object)"
      ]
     },
     "execution_count": 3,
     "metadata": {},
     "output_type": "execute_result"
    }
   ],
   "source": [
    "# numpy array work with symbols too (color pretty printing needs fixing though)\n",
    "import numpy as np\n",
    "\n",
    "X = np.array(\n",
    "    [\n",
    "        [S(\"a\"), S(\"b\")],\n",
    "        [S(\"c\"), S(\"b\")],\n",
    "    ]\n",
    ")\n",
    "\n",
    "# usual numpy matrix product\n",
    "X @ X"
   ]
  },
  {
   "cell_type": "code",
   "execution_count": 4,
   "id": "8b1d659d-c4cf-4df1-86f4-cdd9c61669b1",
   "metadata": {},
   "outputs": [
    {
     "data": {
      "text/plain": [
       "  \u001b[38;2;50;205;50ma\u001b[39m^3\n",
       "+ \u001b[38;2;50;205;50ma\u001b[39m² \u001b[38;2;50;205;50mb\u001b[39m\n",
       "+ \u001b[38;2;50;205;50ma\u001b[39m \u001b[38;2;50;205;50mb\u001b[39m \u001b[38;2;50;205;50ma\u001b[39m\n",
       "+ \u001b[38;2;50;205;50ma\u001b[39m \u001b[38;2;50;205;50mb\u001b[39m²\n",
       "+ \u001b[38;2;50;205;50mb\u001b[39m \u001b[38;2;50;205;50ma\u001b[39m²\n",
       "+ \u001b[38;2;50;205;50mb\u001b[39m \u001b[38;2;50;205;50ma\u001b[39m \u001b[38;2;50;205;50mb\u001b[39m\n",
       "+ \u001b[38;2;50;205;50mb\u001b[39m² \u001b[38;2;50;205;50ma\u001b[39m\n",
       "+ \u001b[38;2;50;205;50mb\u001b[39m^3"
      ]
     },
     "execution_count": 4,
     "metadata": {},
     "output_type": "execute_result"
    }
   ],
   "source": [
    "# Non-commutative symbols\n",
    "a = Snc(\"a\")\n",
    "b = Snc(\"b\")\n",
    "(a + b) ** 3"
   ]
  },
  {
   "cell_type": "code",
   "execution_count": 5,
   "id": "257ee4d6-4f23-47d8-87f2-e2b9980aa2b8",
   "metadata": {},
   "outputs": [
    {
     "data": {
      "text/plain": [
       "\u001b[38;2;50;205;50mA\u001b[39m \u001b[38;2;50;205;50mA*\u001b[39m"
      ]
     },
     "execution_count": 5,
     "metadata": {},
     "output_type": "execute_result"
    }
   ],
   "source": [
    "# complex number symbols should have a capital letter at the start\n",
    "# so that complex conjugate with `X.c` works\n",
    "a = S(\"A\")\n",
    "a * a.c"
   ]
  },
  {
   "cell_type": "markdown",
   "id": "81b4d00c-5c4e-4f99-9072-755035bda51d",
   "metadata": {},
   "source": [
    "# Nullvector / Particle operator algebra"
   ]
  },
  {
   "cell_type": "code",
   "execution_count": 6,
   "id": "c3b1e888-e5e9-4075-9760-71fd78196315",
   "metadata": {},
   "outputs": [
    {
     "data": {
      "text/plain": [
       "\u001b[38;2;255;105;180ma\u001b[39m \u001b[38;2;255;105;180ma†\u001b[39m + \u001b[38;2;255;105;180mb†\u001b[39m \u001b[38;2;255;105;180mb\u001b[39m + 2 \u001b[38;2;255;105;180ma\u001b[39m \u001b[38;2;255;105;180ma†\u001b[39m \u001b[38;2;255;105;180mb†\u001b[39m \u001b[38;2;255;105;180mb\u001b[39m"
      ]
     },
     "execution_count": 6,
     "metadata": {},
     "output_type": "execute_result"
    }
   ],
   "source": [
    "# as an example particle operators (null vectors) are implemented on top of non-commutative Symbols\n",
    "# alphabetic ordering is implemented together with some simplifications like Ac A Ac = Ac\n",
    "# but normal order (i.e. A Ac -> 1 - Ac A)  is currently disabled as I found it less helpful\n",
    "\n",
    "a = NV(\"a\")\n",
    "b = NV(\"b\")\n",
    "(a * a.c + b.c * b) ** 2"
   ]
  },
  {
   "cell_type": "markdown",
   "id": "d98beb96-6878-4066-b4a0-529425c2a4f3",
   "metadata": {},
   "source": [
    "# Derivatives"
   ]
  },
  {
   "cell_type": "code",
   "execution_count": 7,
   "id": "7f13fe7b-3048-42ec-8834-6574aae997d3",
   "metadata": {},
   "outputs": [
    {
     "data": {
      "text/plain": [
       "3 \u001b[38;2;50;205;50ma\u001b[39m² + 2 \u001b[38;2;50;205;50mf\u001b[39m() \u001b[38;2;255;192;203m∂/\u001b[39m\u001b[38;2;255;192;203m∂a\u001b[39m[\u001b[38;2;50;205;50mf\u001b[39m()]"
      ]
     },
     "execution_count": 7,
     "metadata": {},
     "output_type": "execute_result"
    }
   ],
   "source": [
    "# functions, i.e. symbols which depend on parameters, are created with `Func(name)`\n",
    "fa = S(\"a\") ** 3 + Func(\"f\") ** 2\n",
    "\n",
    "# deriv(expr, param_name) takes the derivative\n",
    "deriv(fa, \"a\")"
   ]
  },
  {
   "cell_type": "code",
   "execution_count": 8,
   "id": "fdfac1bb-08c2-4400-980d-aed51698fd5b",
   "metadata": {},
   "outputs": [
    {
     "data": {
      "text/plain": [
       "\u001b[38;2;255;192;203m∂/\u001b[39m\u001b[38;2;255;192;203m∂x\u001b[39m\u001b[38;2;255;192;203m²\u001b[39m[\u001b[38;2;50;205;50mf\u001b[39m(x,y)]"
      ]
     },
     "execution_count": 8,
     "metadata": {},
     "output_type": "execute_result"
    }
   ],
   "source": [
    "# if the function depends only on certain parameters (derivatives w.r.t. other are zero)\n",
    "# then parameters can be specified\n",
    "# derivatives and their order can be specified directl\n",
    "a = Func(\"f\", (\"x\", \"y\"), deriv={\"x\": 2})\n",
    "a"
   ]
  },
  {
   "cell_type": "markdown",
   "id": "5d95d3fd-5467-45e5-b14f-c26dc4caae42",
   "metadata": {},
   "source": [
    "# Clifford algebra"
   ]
  },
  {
   "cell_type": "code",
   "execution_count": 9,
   "id": "adff2734-7b4a-4b3b-bd50-d770e7f61212",
   "metadata": {},
   "outputs": [
    {
     "data": {
      "text/plain": [
       "(\u001b[38;2;50;205;50ma\u001b[39m² + \u001b[38;2;50;205;50mb\u001b[39m² + \u001b[38;2;50;205;50mc\u001b[39m²)"
      ]
     },
     "execution_count": 9,
     "metadata": {},
     "output_type": "execute_result"
    }
   ],
   "source": [
    "# Clifford vector basis is created with `E(a, b, ...)`\n",
    "# if a parameter is an integer, then a name \"e...\" will be created\n",
    "# for a string parameters it will create an anti-commuting, +1 squaring basis vector with that name\n",
    "X = S(\"a\") * E(1) + S(\"b\") * E(2) + S(\"c\") * E(3)\n",
    "\n",
    "# Vector squared\n",
    "X**2"
   ]
  },
  {
   "cell_type": "code",
   "execution_count": 10,
   "id": "867c3be2-c20c-4cd1-bb63-586acd6dd6b2",
   "metadata": {},
   "outputs": [
    {
     "data": {
      "text/plain": [
       "2\u001b[33mi\u001b[0m \u001b[38;2;0;191;255me1\u001b[39m"
      ]
     },
     "execution_count": 10,
     "metadata": {},
     "output_type": "execute_result"
    }
   ],
   "source": [
    "x = 1 + 1j * E(1)\n",
    "x**2"
   ]
  },
  {
   "cell_type": "code",
   "execution_count": 11,
   "id": "c835912e-48dd-4e0f-b92b-ac3b349a22a5",
   "metadata": {},
   "outputs": [
    {
     "data": {
      "text/plain": [
       "(  \u001b[38;2;50;205;50mt\u001b[39m²\n",
       " - \u001b[38;2;50;205;50mx\u001b[39m²\n",
       " - \u001b[38;2;50;205;50my\u001b[39m²\n",
       " - \u001b[38;2;50;205;50mz\u001b[39m²)"
      ]
     },
     "execution_count": 11,
     "metadata": {},
     "output_type": "execute_result"
    }
   ],
   "source": [
    "# For vector basis squaring to -1 use capital letter for name\n",
    "X = S(\"t\") * E(\"t\") + S(\"x\") * E(\"X\") + S(\"y\") * E(\"Y\") + S(\"z\") * E(\"Z\")\n",
    "X**2"
   ]
  },
  {
   "cell_type": "code",
   "execution_count": 12,
   "id": "a6b1aa41-64b4-49e7-9043-683f2a44625c",
   "metadata": {},
   "outputs": [
    {
     "data": {
      "text/plain": [
       " -\u001b[38;2;50;205;50mA1\u001b[39m \u001b[38;2;0;191;255me1\u001b[39m\n",
       "- \u001b[38;2;50;205;50mA2\u001b[39m \u001b[38;2;0;191;255me2\u001b[39m\n",
       "- \u001b[38;2;50;205;50mA3\u001b[39m \u001b[38;2;0;191;255me3\u001b[39m\n",
       "+ \u001b[38;2;50;205;50mA123\u001b[39m \u001b[38;2;0;191;255me1\u001b[39m \u001b[38;2;0;191;255me2\u001b[39m \u001b[38;2;0;191;255me3\u001b[39m\n",
       "───\n",
       " -\u001b[38;2;50;205;50mA1\u001b[39m²\n",
       "- \u001b[38;2;50;205;50mA123\u001b[39m²\n",
       "- \u001b[38;2;50;205;50mA2\u001b[39m²\n",
       "- \u001b[38;2;50;205;50mA3\u001b[39m²"
      ]
     },
     "execution_count": 12,
     "metadata": {},
     "output_type": "execute_result"
    }
   ],
   "source": [
    "# Clifford inverses are implemented with a simple algorithm which works up to 5-dim or some additional special cases\n",
    "# `make_grades(*grades, dim=..., name=\"A\")` generates a symbolic Clifford vector of the given grades\n",
    "X = make_grades(1, 3, dim=3)\n",
    "\n",
    "# inverse\n",
    "1 / X"
   ]
  },
  {
   "cell_type": "code",
   "execution_count": 13,
   "id": "4a165df2-39e5-4265-8ca5-5ad5220719ff",
   "metadata": {},
   "outputs": [
    {
     "data": {
      "text/plain": [
       " -(0.06268501683129984+0.07247466209727443\u001b[33mi\u001b[0m)\n",
       "- (0.00035390597180494365+0.06260931982409024\u001b[33mi\u001b[0m) \u001b[38;2;0;191;255me1\u001b[39m\n",
       "+ (0.09338733803155291-0.028630648811503966\u001b[33mi\u001b[0m) \u001b[38;2;0;191;255me2\u001b[39m\n",
       "- (0.014638711313707954+0.021597562619575066\u001b[33mi\u001b[0m) \u001b[38;2;0;191;255me3\u001b[39m\n",
       "- (0.034594079824415695-0.05060376739572456\u001b[33mi\u001b[0m) \u001b[38;2;0;191;255me4\u001b[39m\n",
       "+ (0.011045644499517414+2.8087398420226922e-05\u001b[33mi\u001b[0m) \u001b[38;2;0;191;255me1\u001b[39m \u001b[38;2;0;191;255me2\u001b[39m\n",
       "+ (0.04835891627797368-0.022387420981458565\u001b[33mi\u001b[0m) \u001b[38;2;0;191;255me1\u001b[39m \u001b[38;2;0;191;255me3\u001b[39m\n",
       "+ (0.0007396197096293765-0.04864137707125525\u001b[33mi\u001b[0m) \u001b[38;2;0;191;255me1\u001b[39m \u001b[38;2;0;191;255me4\u001b[39m\n",
       "- (0.008536233564834243-0.008070072098728943\u001b[33mi\u001b[0m) \u001b[38;2;0;191;255me2\u001b[39m \u001b[38;2;0;191;255me3\u001b[39m\n",
       "+ (0.13909856793229505-0.057780454363665634\u001b[33mi\u001b[0m) \u001b[38;2;0;191;255me2\u001b[39m \u001b[38;2;0;191;255me4\u001b[39m\n",
       "+ (0.006346476524126992-0.00010903193095914906\u001b[33mi\u001b[0m) \u001b[38;2;0;191;255me3\u001b[39m \u001b[38;2;0;191;255me4\u001b[39m\n",
       "+ (0.02681797608650048-0.010521683848062818\u001b[33mi\u001b[0m) \u001b[38;2;0;191;255me1\u001b[39m \u001b[38;2;0;191;255me2\u001b[39m \u001b[38;2;0;191;255me3\u001b[39m\n",
       "- (0.059204925717063185-0.0020217903155548694\u001b[33mi\u001b[0m) \u001b[38;2;0;191;255me1\u001b[39m \u001b[38;2;0;191;255me2\u001b[39m \u001b[38;2;0;191;255me4\u001b[39m\n",
       "+ (0.002228196465423854+0.04953247708063764\u001b[33mi\u001b[0m) \u001b[38;2;0;191;255me1\u001b[39m \u001b[38;2;0;191;255me3\u001b[39m \u001b[38;2;0;191;255me4\u001b[39m\n",
       "+ (0.0009427814907073742+0.08146204207366373\u001b[33mi\u001b[0m) \u001b[38;2;0;191;255me2\u001b[39m \u001b[38;2;0;191;255me3\u001b[39m \u001b[38;2;0;191;255me4\u001b[39m\n",
       "- (0.01770068020308596-0.10366008440255378\u001b[33mi\u001b[0m) \u001b[38;2;0;191;255me1\u001b[39m \u001b[38;2;0;191;255me2\u001b[39m \u001b[38;2;0;191;255me3\u001b[39m \u001b[38;2;0;191;255me4\u001b[39m"
      ]
     },
     "execution_count": 13,
     "metadata": {},
     "output_type": "execute_result"
    }
   ],
   "source": [
    "# `random_vec(*grades, dim=..., complex=True)` generates a random vector\n",
    "# `random_int_vec(...)` generates the same with integers if floating point round is a concern in testing\n",
    "X = random_vec(dim=4)\n",
    "\n",
    "# inverse\n",
    "1 / X"
   ]
  },
  {
   "cell_type": "code",
   "execution_count": 14,
   "id": "558408d0-5db1-42ea-a184-a419c13c5fed",
   "metadata": {},
   "outputs": [
    {
     "data": {
      "text/plain": [
       "1 - \u001b[38;2;50;205;50mA*\u001b[39m \u001b[38;2;0;191;255me1\u001b[39m \u001b[38;2;0;191;255me2\u001b[39m"
      ]
     },
     "execution_count": 14,
     "metadata": {},
     "output_type": "execute_result"
    }
   ],
   "source": [
    "# other supported operations on Clifford algebra\n",
    "# reverse: .r   (flip grades 4k+{2,3}\n",
    "# complex conjugate: .c  (flip grades 4k+{2,3} and take complex conjugate of factor\n",
    "# clifford reverse: .cl  (flip grades 4k+{1,2})\n",
    "# main involution: .i  (flip odd grades)\n",
    "\n",
    "X = 1 + S(\"A\") * E(1, 2)\n",
    "X.c"
   ]
  },
  {
   "cell_type": "code",
   "execution_count": 15,
   "id": "3e914b76-afb1-430a-921a-4be2d14933a6",
   "metadata": {},
   "outputs": [
    {
     "data": {
      "text/plain": [
       "\u001b[47m(\u001b[0m\u001b[37m2⌀\u001b[0m\n",
       "  1.16877 + 0.4278 \u001b[38;2;0;191;255me1\u001b[39m \u001b[38;2;0;191;255me2\u001b[39m + 0.4278 \u001b[38;2;0;191;255me2\u001b[39m \u001b[38;2;0;191;255me3\u001b[39m\n",
       "  0.605\u001b[33mi\u001b[0m - 0.826446\u001b[33mi\u001b[0m \u001b[38;2;0;191;255me1\u001b[39m \u001b[38;2;0;191;255me2\u001b[39m - 0.826446\u001b[33mi\u001b[0m \u001b[38;2;0;191;255me2\u001b[39m \u001b[38;2;0;191;255me3\u001b[39m\n",
       "\u001b[47m)\u001b[0m"
      ]
     },
     "execution_count": 15,
     "metadata": {},
     "output_type": "execute_result"
    }
   ],
   "source": [
    "# for multivectors where the non-vector parts squares to a scalars\n",
    "# `mv_sqrt()` can find the square root\n",
    "X = 1 + E(1, 2) + E(2, 3)\n",
    "s1, s2 = mv_sqrt(X)\n",
    "s1, s2"
   ]
  },
  {
   "cell_type": "code",
   "execution_count": 16,
   "id": "3de21275-62d8-420e-90d8-0d17d986eccd",
   "metadata": {},
   "outputs": [
    {
     "name": "stdout",
     "output_type": "stream",
     "text": [
      "E1234=\n"
     ]
    },
    {
     "data": {
      "text/plain": [
       "\u001b[37m(4, 4) complex128 256bytes\u001b[0m\n",
       "matrix([[1, 0, 0, 0],\n",
       "        [0, 1, 0, 0],\n",
       "        [0, 0, -1, 0],\n",
       "        [0, 0, 0, -1]])"
      ]
     },
     "metadata": {},
     "output_type": "display_data"
    },
    {
     "name": "stdout",
     "output_type": "stream",
     "text": [
      "\n",
      "Matrix with single 1\n"
     ]
    },
    {
     "data": {
      "text/plain": [
       "  0.25\n",
       "- 0.25\u001b[33mi\u001b[0m \u001b[38;2;0;191;255me1\u001b[39m \u001b[38;2;0;191;255me2\u001b[39m\n",
       "+ 0.25\u001b[33mi\u001b[0m \u001b[38;2;0;191;255me3\u001b[39m \u001b[38;2;0;191;255me4\u001b[39m\n",
       "+ 0.25 \u001b[38;2;0;191;255me1\u001b[39m \u001b[38;2;0;191;255me2\u001b[39m \u001b[38;2;0;191;255me3\u001b[39m \u001b[38;2;0;191;255me4\u001b[39m"
      ]
     },
     "metadata": {},
     "output_type": "display_data"
    }
   ],
   "source": [
    "# the chiral representation of Cl4 can be obtained with\n",
    "mv_mat_repr = make_cl4_chiral()\n",
    "print(\"E1234=\")\n",
    "display(mv_mat_repr.to_mat(E(1, 2, 3, 4)))\n",
    "print()\n",
    "\n",
    "print(\"Matrix with single 1\")\n",
    "display(\n",
    "    mv_mat_repr.to_mv(\n",
    "        np.array([[1, 0, 0, 0], [0, 0, 0, 0], [0, 0, 0, 0], [0, 0, 0, 0]])\n",
    "    )\n",
    ")"
   ]
  },
  {
   "cell_type": "code",
   "execution_count": 17,
   "id": "9a421aa8-3c9b-4f6e-889c-3b1dee467225",
   "metadata": {},
   "outputs": [
    {
     "data": {
      "text/plain": [
       "\u001b[37m(8, 8) complex128 1_024bytes\u001b[0m\n",
       "matrix([[1, 0, 0, 0, 0, 0, 0, 1],\n",
       "        [0, 1, 0, 0, 0, 0, -1, 0],\n",
       "        [0, 0, 1, 0, 0, -1, 0, 0],\n",
       "        [0, 0, 0, 1, 1, 0, 0, 0],\n",
       "        [0, 0, 0, -1, 1, 0, 0, 0],\n",
       "        [0, 0, 1, 0, 0, 1, 0, 0],\n",
       "        [0, 1, 0, 0, 0, 0, 1, 0],\n",
       "        [-1, 0, 0, 0, 0, 0, 0, 1]])"
      ]
     },
     "execution_count": 17,
     "metadata": {},
     "output_type": "execute_result"
    }
   ],
   "source": [
    "# for any even dimension you can create representations\n",
    "mv_mat_repr = CliffordMatrixRepr.from_dim(6)\n",
    "mv_mat_repr.to_mat(1 + E(1, 2, 3, 4, 5, 6))"
   ]
  }
 ],
 "metadata": {
  "kernelspec": {
   "display_name": "Algebrant",
   "language": "python",
   "name": "algebrant"
  },
  "language_info": {
   "codemirror_mode": {
    "name": "ipython",
    "version": 3
   },
   "file_extension": ".py",
   "mimetype": "text/x-python",
   "name": "python",
   "nbconvert_exporter": "python",
   "pygments_lexer": "ipython3",
   "version": "3.10.13"
  }
 },
 "nbformat": 4,
 "nbformat_minor": 5
}
